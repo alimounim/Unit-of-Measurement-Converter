{
 "cells": [
  {
   "cell_type": "code",
   "execution_count": 41,
   "id": "9c207e28-53e5-4499-9ac1-eddcf9b606ef",
   "metadata": {},
   "outputs": [
    {
     "name": "stdin",
     "output_type": "stream",
     "text": [
      "Enter Starting Unit of Measurement(inches, feet, yards):  inches\n",
      "Enter Unit of Measurement to Convert to (inches, feet, yards):  yard\n",
      "Enter Starting Measurement in Inches:  72\n"
     ]
    },
    {
     "name": "stdout",
     "output_type": "stream",
     "text": [
      "Result: 72 Inch = 2.0 Yards\n"
     ]
    }
   ],
   "source": [
    "# Prompt the user to input the starting unit of measurement (inches, feet, or yards).\n",
    "convert_from = input(\"Enter Starting Unit of Measurement(inches, feet, yards): \")\n",
    "\n",
    "# Prompt the user to input the desired unit of measurement to convert to (inches, feet, or yards).\n",
    "convert_to = input(\"Enter Unit of Measurement to Convert to (inches, feet, yards): \")\n",
    "\n",
    "# Check if the starting unit is inches (case-insensitive match).\n",
    "if convert_from.lower() in [\"inches\", \"in\", \"inch\"]:\n",
    "    # Ask the user for the measurement value in inches and convert it to an integer.\n",
    "    number_of_inches = int(input(\"Enter Starting Measurement in Inches: \"))\n",
    "    \n",
    "    # Check if the target unit is feet.\n",
    "    if convert_to.lower() in [\"feet\", \"ft\", \"foot\"]:\n",
    "        # Convert inches to feet (1 foot = 12 inches) and print the result.\n",
    "        print(\"Result: \" + str(number_of_inches) + \" Inch = \" + str(number_of_inches / 12) + \" Feet\")\n",
    "    \n",
    "    # Check if the target unit is yards.\n",
    "    elif convert_to.lower() in [\"yards\", \"yd\", \"yds\", \"yard\"]:\n",
    "        # Convert inches to yards (1 yard = 36 inches) and print the result.\n",
    "        print(\"Result: \" + str(number_of_inches) + \" Inch = \" + str(number_of_inches / 36) + \" Yards\")\n",
    "    \n",
    "    # Handle invalid target units.\n",
    "    else:\n",
    "        print(\"Please Enter either Inches, Feet, or Yards.\")\n",
    "\n",
    "# Check if the starting unit is feet (case-insensitive match).\n",
    "elif convert_from.lower() in [\"feet\", \"ft\", \"foot\"]:\n",
    "    # Ask the user for the measurement value in feet and convert it to an integer.\n",
    "    number_of_feet = int(input(\"Enter Starting Measurement in Feet: \"))\n",
    "    \n",
    "    # Check if the target unit is inches.\n",
    "    if convert_to.lower() in [\"inches\", \"in\", \"inch\"]:\n",
    "        # Convert feet to inches (1 foot = 12 inches) and print the result.\n",
    "        print(\"Result: \" + str(number_of_feet) + \" Feet = \" + str(number_of_feet * 12) + \" Inches\")\n",
    "    \n",
    "    # Check if the target unit is yards.\n",
    "    elif convert_to.lower() in [\"yards\", \"yd\", \"yds\", \"yard\"]:\n",
    "        # Convert feet to yards (1 yard = 3 feet) and print the result.\n",
    "        print(\"Result: \" + str(number_of_feet) + \" Feet = \" + str(number_of_feet / 3) + \" Yards\")\n",
    "    \n",
    "    # Handle invalid target units.\n",
    "    else:\n",
    "        print(\"Please Enter either Inches, Feet, or Yards.\")\n",
    "\n",
    "# Check if the starting unit is yards (case-insensitive match).\n",
    "elif convert_from.lower() in [\"yards\", \"yd\", \"yds\", \"yard\"]:\n",
    "    # Ask the user for the measurement value in yards and convert it to an integer.\n",
    "    number_of_yards = int(input(\"Enter Starting Measurement in Yards: \"))\n",
    "    \n",
    "    # Check if the target unit is inches.\n",
    "    if convert_to.lower() in [\"inches\", \"in\", \"inch\"]:\n",
    "        # Convert yards to inches (1 yard = 36 inches) and print the result.\n",
    "        print(\"Result: \" + str(number_of_yards) + \" Yards = \" + str(number_of_yards * 36) + \" Inches\")\n",
    "    \n",
    "    # Check if the target unit is feet.\n",
    "    elif convert_to.lower() in [\"feet\", \"ft\", \"foot\"]:\n",
    "        # Convert yards to feet (1 yard = 3 feet) and print the result.\n",
    "        print(\"Result: \" + str(number_of_yards) + \" Yards = \" + str(number_of_yards * 3) + \" Feet\")\n",
    "    \n",
    "    # Handle invalid target units.\n",
    "    else:\n",
    "        print(\"Please Enter either Inches, Feet, or Yards.\")\n",
    "\n",
    "# Handle invalid starting units.\n",
    "else:\n",
    "    print(\"Please Enter either Inches, Feet, or Yards.\")\n"
   ]
  },
  {
   "cell_type": "code",
   "execution_count": null,
   "id": "46599e0a-88f6-469a-b307-a59ef3f236d9",
   "metadata": {},
   "outputs": [],
   "source": []
  }
 ],
 "metadata": {
  "kernelspec": {
   "display_name": "Python [conda env:base] *",
   "language": "python",
   "name": "conda-base-py"
  },
  "language_info": {
   "codemirror_mode": {
    "name": "ipython",
    "version": 3
   },
   "file_extension": ".py",
   "mimetype": "text/x-python",
   "name": "python",
   "nbconvert_exporter": "python",
   "pygments_lexer": "ipython3",
   "version": "3.12.7"
  }
 },
 "nbformat": 4,
 "nbformat_minor": 5
}
