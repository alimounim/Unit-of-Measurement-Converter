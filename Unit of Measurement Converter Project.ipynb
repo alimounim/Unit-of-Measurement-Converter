# Prompt the user to input the starting unit of measurement (inches, feet, or yards).
convert_from = input("Enter Starting Unit of Measurement(inches, feet, yards): ")

# Prompt the user to input the desired unit of measurement to convert to (inches, feet, or yards).
convert_to = input("Enter Unit of Measurement to Convert to (inches, feet, yards): ")

# Check if the starting unit is inches (case-insensitive match).
if convert_from.lower() in ["inches", "in", "inch"]:
    # Ask the user for the measurement value in inches and convert it to an integer.
    number_of_inches = int(input("Enter Starting Measurement in Inches: "))
    
    # Check if the target unit is feet.
    if convert_to.lower() in ["feet", "ft", "foot"]:
        # Convert inches to feet (1 foot = 12 inches) and print the result.
        print("Result: " + str(number_of_inches) + " Inch = " + str(number_of_inches / 12) + " Feet")
    
    # Check if the target unit is yards.
    elif convert_to.lower() in ["yards", "yd", "yds", "yard"]:
        # Convert inches to yards (1 yard = 36 inches) and print the result.
        print("Result: " + str(number_of_inches) + " Inch = " + str(number_of_inches / 36) + " Yards")
    
    # Handle invalid target units.
    else:
        print("Please Enter either Inches, Feet, or Yards.")

# Check if the starting unit is feet (case-insensitive match).
elif convert_from.lower() in ["feet", "ft", "foot"]:
    # Ask the user for the measurement value in feet and convert it to an integer.
    number_of_feet = int(input("Enter Starting Measurement in Feet: "))
    
    # Check if the target unit is inches.
    if convert_to.lower() in ["inches", "in", "inch"]:
        # Convert feet to inches (1 foot = 12 inches) and print the result.
        print("Result: " + str(number_of_feet) + " Feet = " + str(number_of_feet * 12) + " Inches")
    
    # Check if the target unit is yards.
    elif convert_to.lower() in ["yards", "yd", "yds", "yard"]:
        # Convert feet to yards (1 yard = 3 feet) and print the result.
        print("Result: " + str(number_of_feet) + " Feet = " + str(number_of_feet / 3) + " Yards")
    
    # Handle invalid target units.
    else:
        print("Please Enter either Inches, Feet, or Yards.")

# Check if the starting unit is yards (case-insensitive match).
elif convert_from.lower() in ["yards", "yd", "yds", "yard"]:
    # Ask the user for the measurement value in yards and convert it to an integer.
    number_of_yards = int(input("Enter Starting Measurement in Yards: "))
    
    # Check if the target unit is inches.
    if convert_to.lower() in ["inches", "in", "inch"]:
        # Convert yards to inches (1 yard = 36 inches) and print the result.
        print("Result: " + str(number_of_yards) + " Yards = " + str(number_of_yards * 36) + " Inches")
    
    # Check if the target unit is feet.
    elif convert_to.lower() in ["feet", "ft", "foot"]:
        # Convert yards to feet (1 yard = 3 feet) and print the result.
        print("Result: " + str(number_of_yards) + " Yards = " + str(number_of_yards * 3) + " Feet")
    
    # Handle invalid target units.
    else:
        print("Please Enter either Inches, Feet, or Yards.")

# Handle invalid starting units.
else:
    print("Please Enter either Inches, Feet, or Yards.")
